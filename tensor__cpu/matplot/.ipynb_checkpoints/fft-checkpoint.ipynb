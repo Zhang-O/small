{
 "cells": [
  {
   "cell_type": "code",
   "execution_count": 3,
   "metadata": {},
   "outputs": [
    {
     "name": "stdout",
     "output_type": "stream",
     "text": [
      "Using matplotlib backend: Qt5Agg\n"
     ]
    }
   ],
   "source": [
    "import numpy as np\n",
    "from scipy.fftpack import fft\n",
    "import matplotlib.pyplot as plt\n",
    "%matplotlib"
   ]
  },
  {
   "cell_type": "code",
   "execution_count": 4,
   "metadata": {
    "collapsed": true
   },
   "outputs": [],
   "source": [
    "x = np.linspace(0, 1, 1400)\n",
    "y = 7 * np.sin(2 * np.pi * 180 * x) + 2.8 *  np.sin(2 * np.pi * 390 * x) + 5.1 *  np.sin(2 * np.pi * 600 * x)"
   ]
  },
  {
   "cell_type": "code",
   "execution_count": 5,
   "metadata": {},
   "outputs": [
    {
     "data": {
      "text/plain": [
       "array([  3.79962728e-12+0.j        ,   9.99966152e-05-0.0445618j ,\n",
       "         4.00018214e-04-0.08913023j, ...,   9.00160110e-04+0.13371191j,\n",
       "         4.00018214e-04+0.08913023j,   9.99966152e-05+0.0445618j ])"
      ]
     },
     "execution_count": 5,
     "metadata": {},
     "output_type": "execute_result"
    }
   ],
   "source": [
    "yy = fft(y)\n",
    "yy"
   ]
  },
  {
   "cell_type": "code",
   "execution_count": 6,
   "metadata": {},
   "outputs": [
    {
     "data": {
      "text/plain": [
       "array([  3.79962728e-12,   9.99966152e-05,   4.00018214e-04, ...,\n",
       "         9.00160110e-04,   4.00018214e-04,   9.99966152e-05])"
      ]
     },
     "execution_count": 6,
     "metadata": {},
     "output_type": "execute_result"
    }
   ],
   "source": [
    "yy.real"
   ]
  },
  {
   "cell_type": "code",
   "execution_count": 8,
   "metadata": {},
   "outputs": [
    {
     "data": {
      "text/plain": [
       "array([  3.79962728e-12,   4.45619129e-02,   8.91311262e-02, ...,\n",
       "         1.33714945e-01,   8.91311262e-02,   4.45619129e-02])"
      ]
     },
     "execution_count": 8,
     "metadata": {},
     "output_type": "execute_result"
    }
   ],
   "source": [
    "yf = abs(yy)\n",
    "yf"
   ]
  },
  {
   "cell_type": "code",
   "execution_count": 9,
   "metadata": {},
   "outputs": [
    {
     "data": {
      "text/plain": [
       "1.4142135623730951"
      ]
     },
     "execution_count": 9,
     "metadata": {},
     "output_type": "execute_result"
    }
   ],
   "source": [
    "abs(1 + 1j)"
   ]
  },
  {
   "cell_type": "code",
   "execution_count": 10,
   "metadata": {},
   "outputs": [
    {
     "data": {
      "text/plain": [
       "<matplotlib.text.Text at 0x1c34bb9b860>"
      ]
     },
     "execution_count": 10,
     "metadata": {},
     "output_type": "execute_result"
    }
   ],
   "source": [
    "plt.subplot(221)\n",
    "plt.plot(x[0: 180], y[0:180])\n",
    "plt.title('original wave')"
   ]
  },
  {
   "cell_type": "code",
   "execution_count": 11,
   "metadata": {
    "collapsed": true
   },
   "outputs": [],
   "source": [
    "yf1 = abs(yy) / len(x)\n",
    "yf2 = yf1[range(int(len(x) / 2))]\n",
    "\n",
    "xf = np.arange(len(x))\n",
    "xf2=xf[range(int(len(x) / 2))]\n",
    "\n"
   ]
  },
  {
   "cell_type": "code",
   "execution_count": 12,
   "metadata": {},
   "outputs": [
    {
     "data": {
      "text/plain": [
       "<matplotlib.text.Text at 0x1c34c4ca2e8>"
      ]
     },
     "execution_count": 12,
     "metadata": {},
     "output_type": "execute_result"
    }
   ],
   "source": [
    "plt.subplot(222)\n",
    "plt.plot(xf,yf,'r')\n",
    "plt.title('FFT of Mixed wave(two sides frequency range)',fontsize=7,color='#7A378B')  #注意这里的颜色可以查询颜色代码表\n",
    "\n",
    "\n",
    "plt.subplot(223)\n",
    "plt.plot(xf,yf1,'g')\n",
    "plt.title('FFT of Mixed wave(normalization)',fontsize=9,color='r')\n",
    "\n",
    "\n",
    "plt.subplot(224)\n",
    "plt.plot(xf2,yf2,'b')\n",
    "plt.title('FFT of Mixed wave)',fontsize=10,color='#F08080')"
   ]
  },
  {
   "cell_type": "code",
   "execution_count": 14,
   "metadata": {},
   "outputs": [
    {
     "name": "stdout",
     "output_type": "stream",
     "text": [
      "1.5707963267948966\n"
     ]
    }
   ],
   "source": [
    "# http://blog.csdn.net/ouening/article/details/70339341  \n",
    "# python实现傅立叶级数展开\n",
    "x = np.mgrid[-10: 10.02: 0.02]\n",
    "def fourier1():\n",
    "    s = np.pi / 2\n",
    "    print(s)\n",
    "\n",
    "    for i in range(1,100,1):\n",
    "        s0 = 2 / np.pi * (1 - (-1) ** i) / i ** 2 * np.cos(i * x) \n",
    "        s = s + s0\n",
    "        if len(s) == 2:\n",
    "            print('hehe')\n",
    "            print(s)\n",
    "#     plt.plot(x[0:10], s[0:10], 'orange', linewidth=0.6)\n",
    "#     plt.title('fourier1')\n",
    "#     plt.show()\n",
    "#     print(s[0:10])\n",
    "fourier1()"
   ]
  },
  {
   "cell_type": "code",
   "execution_count": null,
   "metadata": {
    "collapsed": true
   },
   "outputs": [],
   "source": []
  },
  {
   "cell_type": "code",
   "execution_count": 48,
   "metadata": {},
   "outputs": [
    {
     "name": "stdout",
     "output_type": "stream",
     "text": [
      "44100\n"
     ]
    },
    {
     "data": {
      "text/plain": [
       "[<matplotlib.lines.Line2D at 0x1c35d7a0400>]"
      ]
     },
     "execution_count": 48,
     "metadata": {},
     "output_type": "execute_result"
    }
   ],
   "source": [
    "from pylab import *\n",
    "from scipy.io import wavfile\n",
    "import math\n",
    "\n",
    "sampFreq, snd = wavfile.read('440_sine.wav')\n",
    "print(sampFreq)\n",
    "snd = snd / (2.**15)\n",
    "# snd = snd\n",
    "\n",
    "# snd.shape\n",
    "s1 = snd[:, 0]\n",
    "\n",
    "timeArray = arange(0, 5292.0, 1)   #[0s, 1s], 5292个点\n",
    "timeArray = timeArray / sampFreq   #[0s, 0.114s]\n",
    "timeArray = timeArray * 1000       #[0ms, 114ms]\n",
    "\n",
    "plt.subplot(3, 1, 1)\n",
    "plt.plot(timeArray, s1, color='k')\n",
    "ylabel('Amplitude')\n",
    "xlabel('Time (ms)')\n",
    "\n",
    "n = len(s1)\n",
    "p = fft(s1)         #执行傅立叶变换\n",
    "\n",
    "nUniquePts = int(math.ceil((n + 1) / 2.0))\n",
    "p = p[0: nUniquePts]\n",
    "p = abs(p)\n",
    "\n",
    "p = p / float(n)    #除以采样点数，去除幅度对信号长度或采样频率的依赖\n",
    "p = p**2            #求平方得到能量\n",
    "\n",
    "#乘2（详见技术手册）\n",
    "#奇nfft排除奈奎斯特点\n",
    "if n % 2 > 0:       #fft点数为奇\n",
    "    p[1:len(p)] = p[1:len(p)]*2\n",
    "else:               #fft点数为偶\n",
    "    p[1:len(p)-1] = p[1:len(p)-1] * 2\n",
    "\n",
    "freqArray = arange(0, nUniquePts, 1.0) * (sampFreq / n)\n",
    "plt.subplot(3, 1, 2)\n",
    "plt.plot(freqArray/1000, 10*log10(p), color='k')\n",
    "xlabel('Freqency (kHz)')\n",
    "ylabel('Power (dB)')\n",
    "\n",
    "plt.subplot(3, 1, 3)\n",
    "plt.plot(freqArray/1000, p, color='k')\n",
    "\n"
   ]
  },
  {
   "cell_type": "code",
   "execution_count": null,
   "metadata": {},
   "outputs": [],
   "source": []
  },
  {
   "cell_type": "code",
   "execution_count": null,
   "metadata": {
    "collapsed": true
   },
   "outputs": [],
   "source": []
  }
 ],
 "metadata": {
  "kernelspec": {
   "display_name": "py35nltk",
   "language": "python",
   "name": "py35_nltk"
  },
  "language_info": {
   "codemirror_mode": {
    "name": "ipython",
    "version": 3
   },
   "file_extension": ".py",
   "mimetype": "text/x-python",
   "name": "python",
   "nbconvert_exporter": "python",
   "pygments_lexer": "ipython3",
   "version": "3.5.4"
  }
 },
 "nbformat": 4,
 "nbformat_minor": 2
}
